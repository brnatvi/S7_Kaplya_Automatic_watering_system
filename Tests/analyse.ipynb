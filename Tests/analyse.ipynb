{
 "cells": [
  {
   "cell_type": "markdown",
   "metadata": {
    "nteract": {
     "transient": {
      "deleting": false
     }
    },
    "tags": []
   },
   "source": [
    "# Analyse of sensors data "
   ]
  },
  {
   "cell_type": "code",
   "execution_count": 5,
   "metadata": {
    "ExecuteTime": {
     "end_time": "2021-02-03T09:49:19.662376Z",
     "start_time": "2021-02-03T09:49:19.659057Z"
    },
    "jupyter": {
     "outputs_hidden": false,
     "source_hidden": false
    },
    "nteract": {
     "transient": {
      "deleting": false
     }
    }
   },
   "outputs": [],
   "source": [
    "import numpy as np\n",
    "import pandas as pd\n",
    "\n",
    "from pandas.api.types import CategoricalDtype\n",
    "\n",
    "import os            # file operations\n",
    "import requests      # networking\n",
    "import zipfile\n",
    "import io\n",
    "from pathlib import Path\n",
    "\n",
    "from datetime import date"
   ]
  },
  {
   "cell_type": "code",
   "execution_count": 6,
   "metadata": {
    "ExecuteTime": {
     "end_time": "2021-02-03T09:49:21.139505Z",
     "start_time": "2021-02-03T09:49:21.136745Z"
    },
    "jupyter": {
     "outputs_hidden": false,
     "source_hidden": false
    },
    "nteract": {
     "transient": {
      "deleting": false
     }
    }
   },
   "outputs": [],
   "source": [
    "import plotly.graph_objects as go\n",
    "import plotly.express as px\n",
    "import plotly.io as pio"
   ]
  },
  {
   "cell_type": "code",
   "execution_count": 7,
   "metadata": {
    "ExecuteTime": {
     "end_time": "2021-02-03T09:56:45.103619Z",
     "start_time": "2021-02-03T09:56:45.099259Z"
    },
    "jupyter": {
     "outputs_hidden": false,
     "source_hidden": false
    },
    "nteract": {
     "transient": {
      "deleting": false
     }
    }
   },
   "outputs": [],
   "source": [
    "np.set_printoptions(precision=2, suppress=True)\n",
    "%matplotlib inline\n",
    "pd.options.plotting.backend = \"plotly\""
   ]
  },
  {
   "cell_type": "code",
   "execution_count": 12,
   "metadata": {
    "ExecuteTime": {
     "end_time": "2021-02-03T09:56:54.136172Z",
     "start_time": "2021-02-03T09:56:54.132800Z"
    },
    "jupyter": {
     "outputs_hidden": false,
     "source_hidden": false
    },
    "nteract": {
     "transient": {
      "deleting": false
     }
    }
   },
   "outputs": [],
   "source": [
    "params = dict(\n",
    "    timecourse = '',    \n",
    "    drypath = os.path.join('.', 'sensors_test_dry_nonisolated.csv'),\n",
    "    moistpath = os.path.join('.', 'sensors_test_moist_nonisolated.csv')    \n",
    ")"
   ]
  },
  {
   "cell_type": "markdown",
   "metadata": {},
   "source": [
    "## Load data \n",
    "\n"
   ]
  },
  {
   "cell_type": "code",
   "execution_count": 53,
   "metadata": {},
   "outputs": [
    {
     "data": {
      "text/html": [
       "<div>\n",
       "<style scoped>\n",
       "    .dataframe tbody tr th:only-of-type {\n",
       "        vertical-align: middle;\n",
       "    }\n",
       "\n",
       "    .dataframe tbody tr th {\n",
       "        vertical-align: top;\n",
       "    }\n",
       "\n",
       "    .dataframe thead th {\n",
       "        text-align: right;\n",
       "    }\n",
       "</style>\n",
       "<table border=\"1\" class=\"dataframe\">\n",
       "  <thead>\n",
       "    <tr style=\"text-align: right;\">\n",
       "      <th></th>\n",
       "      <th>sens0</th>\n",
       "      <th>sens1</th>\n",
       "      <th>sens2</th>\n",
       "      <th>sens3</th>\n",
       "    </tr>\n",
       "  </thead>\n",
       "  <tbody>\n",
       "    <tr>\n",
       "      <th>1</th>\n",
       "      <td>698</td>\n",
       "      <td>634</td>\n",
       "      <td>814</td>\n",
       "      <td>109</td>\n",
       "    </tr>\n",
       "    <tr>\n",
       "      <th>2</th>\n",
       "      <td>698</td>\n",
       "      <td>634</td>\n",
       "      <td>814</td>\n",
       "      <td>109</td>\n",
       "    </tr>\n",
       "    <tr>\n",
       "      <th>3</th>\n",
       "      <td>698</td>\n",
       "      <td>634</td>\n",
       "      <td>814</td>\n",
       "      <td>109</td>\n",
       "    </tr>\n",
       "    <tr>\n",
       "      <th>4</th>\n",
       "      <td>698</td>\n",
       "      <td>634</td>\n",
       "      <td>815</td>\n",
       "      <td>109</td>\n",
       "    </tr>\n",
       "    <tr>\n",
       "      <th>5</th>\n",
       "      <td>698</td>\n",
       "      <td>634</td>\n",
       "      <td>814</td>\n",
       "      <td>109</td>\n",
       "    </tr>\n",
       "    <tr>\n",
       "      <th>6</th>\n",
       "      <td>698</td>\n",
       "      <td>634</td>\n",
       "      <td>814</td>\n",
       "      <td>109</td>\n",
       "    </tr>\n",
       "    <tr>\n",
       "      <th>7</th>\n",
       "      <td>698</td>\n",
       "      <td>634</td>\n",
       "      <td>815</td>\n",
       "      <td>109</td>\n",
       "    </tr>\n",
       "    <tr>\n",
       "      <th>8</th>\n",
       "      <td>698</td>\n",
       "      <td>634</td>\n",
       "      <td>815</td>\n",
       "      <td>109</td>\n",
       "    </tr>\n",
       "    <tr>\n",
       "      <th>9</th>\n",
       "      <td>698</td>\n",
       "      <td>634</td>\n",
       "      <td>815</td>\n",
       "      <td>109</td>\n",
       "    </tr>\n",
       "    <tr>\n",
       "      <th>10</th>\n",
       "      <td>698</td>\n",
       "      <td>634</td>\n",
       "      <td>814</td>\n",
       "      <td>109</td>\n",
       "    </tr>\n",
       "  </tbody>\n",
       "</table>\n",
       "</div>"
      ],
      "text/plain": [
       "    sens0  sens1  sens2  sens3\n",
       "1     698    634    814    109\n",
       "2     698    634    814    109\n",
       "3     698    634    814    109\n",
       "4     698    634    815    109\n",
       "5     698    634    814    109\n",
       "6     698    634    814    109\n",
       "7     698    634    815    109\n",
       "8     698    634    815    109\n",
       "9     698    634    815    109\n",
       "10    698    634    814    109"
      ]
     },
     "execution_count": 53,
     "metadata": {},
     "output_type": "execute_result"
    }
   ],
   "source": [
    "df_sens = pd.read_csv(params['drypath'], sep=',', names = [ 'sens0', 'sens1', 'sens2', 'sens3'])\n",
    "\n",
    "df_sens = df_sens[~df_sens['sens0'].str.contains('-')]\n",
    "df_sens = df_sens.astype(int)\n",
    "df_sens.head(10)"
   ]
  },
  {
   "cell_type": "code",
   "execution_count": 54,
   "metadata": {
    "scrolled": true
   },
   "outputs": [
    {
     "data": {
      "text/html": [
       "<div>\n",
       "<style scoped>\n",
       "    .dataframe tbody tr th:only-of-type {\n",
       "        vertical-align: middle;\n",
       "    }\n",
       "\n",
       "    .dataframe tbody tr th {\n",
       "        vertical-align: top;\n",
       "    }\n",
       "\n",
       "    .dataframe thead th {\n",
       "        text-align: right;\n",
       "    }\n",
       "</style>\n",
       "<table border=\"1\" class=\"dataframe\">\n",
       "  <thead>\n",
       "    <tr style=\"text-align: right;\">\n",
       "      <th></th>\n",
       "      <th>sens0</th>\n",
       "      <th>sens1</th>\n",
       "      <th>sens2</th>\n",
       "      <th>sens3</th>\n",
       "    </tr>\n",
       "  </thead>\n",
       "  <tbody>\n",
       "    <tr>\n",
       "      <th>1</th>\n",
       "      <td>253</td>\n",
       "      <td>264</td>\n",
       "      <td>335</td>\n",
       "      <td>65</td>\n",
       "    </tr>\n",
       "    <tr>\n",
       "      <th>2</th>\n",
       "      <td>253</td>\n",
       "      <td>264</td>\n",
       "      <td>335</td>\n",
       "      <td>65</td>\n",
       "    </tr>\n",
       "    <tr>\n",
       "      <th>3</th>\n",
       "      <td>254</td>\n",
       "      <td>264</td>\n",
       "      <td>335</td>\n",
       "      <td>64</td>\n",
       "    </tr>\n",
       "    <tr>\n",
       "      <th>4</th>\n",
       "      <td>254</td>\n",
       "      <td>264</td>\n",
       "      <td>335</td>\n",
       "      <td>64</td>\n",
       "    </tr>\n",
       "    <tr>\n",
       "      <th>5</th>\n",
       "      <td>254</td>\n",
       "      <td>264</td>\n",
       "      <td>335</td>\n",
       "      <td>63</td>\n",
       "    </tr>\n",
       "    <tr>\n",
       "      <th>6</th>\n",
       "      <td>254</td>\n",
       "      <td>264</td>\n",
       "      <td>335</td>\n",
       "      <td>63</td>\n",
       "    </tr>\n",
       "    <tr>\n",
       "      <th>7</th>\n",
       "      <td>254</td>\n",
       "      <td>264</td>\n",
       "      <td>335</td>\n",
       "      <td>63</td>\n",
       "    </tr>\n",
       "    <tr>\n",
       "      <th>8</th>\n",
       "      <td>254</td>\n",
       "      <td>264</td>\n",
       "      <td>335</td>\n",
       "      <td>63</td>\n",
       "    </tr>\n",
       "    <tr>\n",
       "      <th>9</th>\n",
       "      <td>254</td>\n",
       "      <td>264</td>\n",
       "      <td>335</td>\n",
       "      <td>62</td>\n",
       "    </tr>\n",
       "    <tr>\n",
       "      <th>10</th>\n",
       "      <td>253</td>\n",
       "      <td>264</td>\n",
       "      <td>335</td>\n",
       "      <td>62</td>\n",
       "    </tr>\n",
       "  </tbody>\n",
       "</table>\n",
       "</div>"
      ],
      "text/plain": [
       "    sens0  sens1  sens2  sens3\n",
       "1     253    264    335     65\n",
       "2     253    264    335     65\n",
       "3     254    264    335     64\n",
       "4     254    264    335     64\n",
       "5     254    264    335     63\n",
       "6     254    264    335     63\n",
       "7     254    264    335     63\n",
       "8     254    264    335     63\n",
       "9     254    264    335     62\n",
       "10    253    264    335     62"
      ]
     },
     "execution_count": 54,
     "metadata": {},
     "output_type": "execute_result"
    }
   ],
   "source": [
    "df_sens_m = pd.read_csv(params['moistpath'], sep=',', names = [ 'sens0', 'sens1', 'sens2', 'sens3'])\n",
    "\n",
    "df_sens_m = df_sens_m[~df_sens_m['sens0'].str.contains('-')]\n",
    "df_sens_m = df_sens_m.astype(int)\n",
    "\n",
    "df_sens_m.head(10)"
   ]
  },
  {
   "cell_type": "markdown",
   "metadata": {},
   "source": [
    "## Dry statistics \n",
    "\n"
   ]
  },
  {
   "cell_type": "code",
   "execution_count": 89,
   "metadata": {
    "scrolled": false
   },
   "outputs": [
    {
     "data": {
      "text/html": [
       "<style type=\"text/css\">\n",
       "#T_1bc09 th {\n",
       "  background: #7ca6db;\n",
       "  color: white;\n",
       "}\n",
       "#T_1bc09_row7_col0, #T_1bc09_row7_col1, #T_1bc09_row7_col2, #T_1bc09_row7_col3 {\n",
       "  background-color: lightgreen;\n",
       "}\n",
       "</style>\n",
       "<table id=\"T_1bc09\">\n",
       "  <caption>Summary Statistics</caption>\n",
       "  <thead>\n",
       "    <tr>\n",
       "      <th class=\"blank level0\" >&nbsp;</th>\n",
       "      <th id=\"T_1bc09_level0_col0\" class=\"col_heading level0 col0\" >sens0</th>\n",
       "      <th id=\"T_1bc09_level0_col1\" class=\"col_heading level0 col1\" >sens1</th>\n",
       "      <th id=\"T_1bc09_level0_col2\" class=\"col_heading level0 col2\" >sens2</th>\n",
       "      <th id=\"T_1bc09_level0_col3\" class=\"col_heading level0 col3\" >sens3</th>\n",
       "    </tr>\n",
       "  </thead>\n",
       "  <tbody>\n",
       "    <tr>\n",
       "      <th id=\"T_1bc09_level0_row0\" class=\"row_heading level0 row0\" >count</th>\n",
       "      <td id=\"T_1bc09_row0_col0\" class=\"data row0 col0\" >100</td>\n",
       "      <td id=\"T_1bc09_row0_col1\" class=\"data row0 col1\" >100</td>\n",
       "      <td id=\"T_1bc09_row0_col2\" class=\"data row0 col2\" >100</td>\n",
       "      <td id=\"T_1bc09_row0_col3\" class=\"data row0 col3\" >100</td>\n",
       "    </tr>\n",
       "    <tr>\n",
       "      <th id=\"T_1bc09_level0_row1\" class=\"row_heading level0 row1\" >mean</th>\n",
       "      <td id=\"T_1bc09_row1_col0\" class=\"data row1 col0\" >688</td>\n",
       "      <td id=\"T_1bc09_row1_col1\" class=\"data row1 col1\" >626</td>\n",
       "      <td id=\"T_1bc09_row1_col2\" class=\"data row1 col2\" >803</td>\n",
       "      <td id=\"T_1bc09_row1_col3\" class=\"data row1 col3\" >111</td>\n",
       "    </tr>\n",
       "    <tr>\n",
       "      <th id=\"T_1bc09_level0_row2\" class=\"row_heading level0 row2\" >std</th>\n",
       "      <td id=\"T_1bc09_row2_col0\" class=\"data row2 col0\" >8</td>\n",
       "      <td id=\"T_1bc09_row2_col1\" class=\"data row2 col1\" >16</td>\n",
       "      <td id=\"T_1bc09_row2_col2\" class=\"data row2 col2\" >14</td>\n",
       "      <td id=\"T_1bc09_row2_col3\" class=\"data row2 col3\" >5</td>\n",
       "    </tr>\n",
       "    <tr>\n",
       "      <th id=\"T_1bc09_level0_row3\" class=\"row_heading level0 row3\" >min</th>\n",
       "      <td id=\"T_1bc09_row3_col0\" class=\"data row3 col0\" >666</td>\n",
       "      <td id=\"T_1bc09_row3_col1\" class=\"data row3 col1\" >486</td>\n",
       "      <td id=\"T_1bc09_row3_col2\" class=\"data row3 col2\" >778</td>\n",
       "      <td id=\"T_1bc09_row3_col3\" class=\"data row3 col3\" >103</td>\n",
       "    </tr>\n",
       "    <tr>\n",
       "      <th id=\"T_1bc09_level0_row4\" class=\"row_heading level0 row4\" >25%</th>\n",
       "      <td id=\"T_1bc09_row4_col0\" class=\"data row4 col0\" >681</td>\n",
       "      <td id=\"T_1bc09_row4_col1\" class=\"data row4 col1\" >625</td>\n",
       "      <td id=\"T_1bc09_row4_col2\" class=\"data row4 col2\" >789</td>\n",
       "      <td id=\"T_1bc09_row4_col3\" class=\"data row4 col3\" >108</td>\n",
       "    </tr>\n",
       "    <tr>\n",
       "      <th id=\"T_1bc09_level0_row5\" class=\"row_heading level0 row5\" >50%</th>\n",
       "      <td id=\"T_1bc09_row5_col0\" class=\"data row5 col0\" >691</td>\n",
       "      <td id=\"T_1bc09_row5_col1\" class=\"data row5 col1\" >629</td>\n",
       "      <td id=\"T_1bc09_row5_col2\" class=\"data row5 col2\" >811</td>\n",
       "      <td id=\"T_1bc09_row5_col3\" class=\"data row5 col3\" >109</td>\n",
       "    </tr>\n",
       "    <tr>\n",
       "      <th id=\"T_1bc09_level0_row6\" class=\"row_heading level0 row6\" >75%</th>\n",
       "      <td id=\"T_1bc09_row6_col0\" class=\"data row6 col0\" >694</td>\n",
       "      <td id=\"T_1bc09_row6_col1\" class=\"data row6 col1\" >633</td>\n",
       "      <td id=\"T_1bc09_row6_col2\" class=\"data row6 col2\" >814</td>\n",
       "      <td id=\"T_1bc09_row6_col3\" class=\"data row6 col3\" >118</td>\n",
       "    </tr>\n",
       "    <tr>\n",
       "      <th id=\"T_1bc09_level0_row7\" class=\"row_heading level0 row7\" >max</th>\n",
       "      <td id=\"T_1bc09_row7_col0\" class=\"data row7 col0\" >711</td>\n",
       "      <td id=\"T_1bc09_row7_col1\" class=\"data row7 col1\" >635</td>\n",
       "      <td id=\"T_1bc09_row7_col2\" class=\"data row7 col2\" >818</td>\n",
       "      <td id=\"T_1bc09_row7_col3\" class=\"data row7 col3\" >119</td>\n",
       "    </tr>\n",
       "  </tbody>\n",
       "</table>\n"
      ],
      "text/plain": [
       "<pandas.io.formats.style.Styler at 0x226096199d0>"
      ]
     },
     "metadata": {},
     "output_type": "display_data"
    }
   ],
   "source": [
    "# Dry statistics\n",
    "summary_stats = df_sens.describe()\n",
    "\n",
    "# Apply some styling\n",
    "styled_summary_stats = (summary_stats\n",
    "                        .style.set_table_styles([{'selector': 'th', 'props': [('background', '#7ca6db'), ('color', 'white')]}])\n",
    "                        .format(\"{:.0f}\")\n",
    "                        .set_caption(\"Summary Statistics\")\n",
    "                        .highlight_max(subset=None, color='lightgreen', axis=0, props=None)\n",
    "                       # .apply(lambda x: ['background: lightgreen' if (x.index == 'max') else '' for i in x], axis=1)\n",
    "                       )\n",
    "\n",
    "# Display\n",
    "display(styled_summary_stats)"
   ]
  },
  {
   "cell_type": "markdown",
   "metadata": {},
   "source": [
    "## Moist statistics \n",
    "\n"
   ]
  },
  {
   "cell_type": "code",
   "execution_count": 91,
   "metadata": {},
   "outputs": [
    {
     "data": {
      "text/html": [
       "<style type=\"text/css\">\n",
       "#T_32004 th {\n",
       "  background: #7ca6db;\n",
       "  color: white;\n",
       "}\n",
       "</style>\n",
       "<table id=\"T_32004\">\n",
       "  <caption>Summary Statistics</caption>\n",
       "  <thead>\n",
       "    <tr>\n",
       "      <th class=\"blank level0\" >&nbsp;</th>\n",
       "      <th id=\"T_32004_level0_col0\" class=\"col_heading level0 col0\" >sens0</th>\n",
       "      <th id=\"T_32004_level0_col1\" class=\"col_heading level0 col1\" >sens1</th>\n",
       "      <th id=\"T_32004_level0_col2\" class=\"col_heading level0 col2\" >sens2</th>\n",
       "      <th id=\"T_32004_level0_col3\" class=\"col_heading level0 col3\" >sens3</th>\n",
       "    </tr>\n",
       "  </thead>\n",
       "  <tbody>\n",
       "    <tr>\n",
       "      <th id=\"T_32004_level0_row0\" class=\"row_heading level0 row0\" >count</th>\n",
       "      <td id=\"T_32004_row0_col0\" class=\"data row0 col0\" >40</td>\n",
       "      <td id=\"T_32004_row0_col1\" class=\"data row0 col1\" >40</td>\n",
       "      <td id=\"T_32004_row0_col2\" class=\"data row0 col2\" >40</td>\n",
       "      <td id=\"T_32004_row0_col3\" class=\"data row0 col3\" >40</td>\n",
       "    </tr>\n",
       "    <tr>\n",
       "      <th id=\"T_32004_level0_row1\" class=\"row_heading level0 row1\" >mean</th>\n",
       "      <td id=\"T_32004_row1_col0\" class=\"data row1 col0\" >250</td>\n",
       "      <td id=\"T_32004_row1_col1\" class=\"data row1 col1\" >260</td>\n",
       "      <td id=\"T_32004_row1_col2\" class=\"data row1 col2\" >330</td>\n",
       "      <td id=\"T_32004_row1_col3\" class=\"data row1 col3\" >56</td>\n",
       "    </tr>\n",
       "    <tr>\n",
       "      <th id=\"T_32004_level0_row2\" class=\"row_heading level0 row2\" >std</th>\n",
       "      <td id=\"T_32004_row2_col0\" class=\"data row2 col0\" >4</td>\n",
       "      <td id=\"T_32004_row2_col1\" class=\"data row2 col1\" >4</td>\n",
       "      <td id=\"T_32004_row2_col2\" class=\"data row2 col2\" >6</td>\n",
       "      <td id=\"T_32004_row2_col3\" class=\"data row2 col3\" >6</td>\n",
       "    </tr>\n",
       "    <tr>\n",
       "      <th id=\"T_32004_level0_row3\" class=\"row_heading level0 row3\" >min</th>\n",
       "      <td id=\"T_32004_row3_col0\" class=\"data row3 col0\" >245</td>\n",
       "      <td id=\"T_32004_row3_col1\" class=\"data row3 col1\" >255</td>\n",
       "      <td id=\"T_32004_row3_col2\" class=\"data row3 col2\" >321</td>\n",
       "      <td id=\"T_32004_row3_col3\" class=\"data row3 col3\" >50</td>\n",
       "    </tr>\n",
       "    <tr>\n",
       "      <th id=\"T_32004_level0_row4\" class=\"row_heading level0 row4\" >25%</th>\n",
       "      <td id=\"T_32004_row4_col0\" class=\"data row4 col0\" >247</td>\n",
       "      <td id=\"T_32004_row4_col1\" class=\"data row4 col1\" >257</td>\n",
       "      <td id=\"T_32004_row4_col2\" class=\"data row4 col2\" >325</td>\n",
       "      <td id=\"T_32004_row4_col3\" class=\"data row4 col3\" >51</td>\n",
       "    </tr>\n",
       "    <tr>\n",
       "      <th id=\"T_32004_level0_row5\" class=\"row_heading level0 row5\" >50%</th>\n",
       "      <td id=\"T_32004_row5_col0\" class=\"data row5 col0\" >250</td>\n",
       "      <td id=\"T_32004_row5_col1\" class=\"data row5 col1\" >260</td>\n",
       "      <td id=\"T_32004_row5_col2\" class=\"data row5 col2\" >331</td>\n",
       "      <td id=\"T_32004_row5_col3\" class=\"data row5 col3\" >55</td>\n",
       "    </tr>\n",
       "    <tr>\n",
       "      <th id=\"T_32004_level0_row6\" class=\"row_heading level0 row6\" >75%</th>\n",
       "      <td id=\"T_32004_row6_col0\" class=\"data row6 col0\" >254</td>\n",
       "      <td id=\"T_32004_row6_col1\" class=\"data row6 col1\" >264</td>\n",
       "      <td id=\"T_32004_row6_col2\" class=\"data row6 col2\" >335</td>\n",
       "      <td id=\"T_32004_row6_col3\" class=\"data row6 col3\" >61</td>\n",
       "    </tr>\n",
       "    <tr>\n",
       "      <th id=\"T_32004_level0_row7\" class=\"row_heading level0 row7\" >max</th>\n",
       "      <td id=\"T_32004_row7_col0\" class=\"data row7 col0\" >254</td>\n",
       "      <td id=\"T_32004_row7_col1\" class=\"data row7 col1\" >264</td>\n",
       "      <td id=\"T_32004_row7_col2\" class=\"data row7 col2\" >335</td>\n",
       "      <td id=\"T_32004_row7_col3\" class=\"data row7 col3\" >65</td>\n",
       "    </tr>\n",
       "  </tbody>\n",
       "</table>\n"
      ],
      "text/plain": [
       "<pandas.io.formats.style.Styler at 0x2260a1ecc40>"
      ]
     },
     "metadata": {},
     "output_type": "display_data"
    }
   ],
   "source": [
    "# Moist statistics\n",
    "summary_stats = df_sens_m.describe()\n",
    "\n",
    "# Apply some styling\n",
    "styled_summary_stats = (summary_stats\n",
    "                        .style.set_table_styles([{'selector': 'th', 'props': [('background', '#7ca6db'), ('color', 'white')]}])\n",
    "                        .format(\"{:.0f}\")\n",
    "                        .set_caption(\"Summary Statistics\")\n",
    "                       # .highlight_max(subset=None, color='lightgreen', axis=0, props=None)       \n",
    "                        )\n",
    "\n",
    "# Display\n",
    "display(styled_summary_stats)"
   ]
  },
  {
   "cell_type": "markdown",
   "metadata": {
    "nteract": {
     "transient": {
      "deleting": false
     }
    }
   },
   "source": [
    "## Visualization "
   ]
  },
  {
   "cell_type": "code",
   "execution_count": 48,
   "metadata": {},
   "outputs": [
    {
     "data": {
      "image/png": "[encoded data removed]",
      "text/plain": [
       "<Figure size 640x480 with 1 Axes>"
      ]
     },
     "metadata": {},
     "output_type": "display_data"
    }
   ],
   "source": [
    "fig, ax = plt.subplots()   \n",
    "ax.plot(df_sens['sens0'], label='sensor0', color='r')\n",
    "ax.plot(df_sens['sens1'], label='sensor1', color='g')\n",
    "ax.plot(df_sens['sens2'], label='sensor2', color='b')    \n",
    "ax.plot(df_sens['sens3'], label='sensor3', color='c')  \n",
    "ax.legend()\n",
    "ax.set_xlabel('Iterations')\n",
    "ax.set_ylabel('Values')\n",
    "fig.suptitle('Raw data of dry sensors')\n",
    "plt.show()"
   ]
  },
  {
   "cell_type": "code",
   "execution_count": 56,
   "metadata": {},
   "outputs": [
    {
     "data": {
      "image/png": "[encoded data removed]",
      "text/plain": [
       "<Figure size 640x480 with 1 Axes>"
      ]
     },
     "metadata": {},
     "output_type": "display_data"
    }
   ],
   "source": [
    "fig, ax = plt.subplots()   \n",
    "ax.plot(df_sens_m['sens0'], label='sensor0', color='r')\n",
    "ax.plot(df_sens_m['sens1'], label='sensor1', color='g')\n",
    "ax.plot(df_sens_m['sens2'], label='sensor2', color='b')    \n",
    "ax.plot(df_sens_m['sens3'], label='sensor3', color='c')  \n",
    "ax.legend()\n",
    "ax.set_xlabel('Iterations')\n",
    "ax.set_ylabel('Values')\n",
    "fig.suptitle('Raw data of moist sensors')\n",
    "plt.show()"
   ]
  },
  {
   "cell_type": "code",
   "execution_count": null,
   "metadata": {},
   "outputs": [],
   "source": []
  }
 ],
 "metadata": {
  "kernelspec": {
   "display_name": "Python 3 (ipykernel)",
   "language": "python",
   "name": "python3"
  },
  "language_info": {
   "codemirror_mode": {
    "name": "ipython",
    "version": 3
   },
   "file_extension": ".py",
   "mimetype": "text/x-python",
   "name": "python",
   "nbconvert_exporter": "python",
   "pygments_lexer": "ipython3",
   "version": "3.8.10"
  },
  "toc": {
   "base_numbering": 1,
   "nav_menu": {},
   "number_sections": true,
   "sideBar": true,
   "skip_h1_title": false,
   "title_cell": "Table of Contents",
   "title_sidebar": "Contents",
   "toc_cell": false,
   "toc_position": {},
   "toc_section_display": true,
   "toc_window_display": true
  },
  "vscode": {
   "interpreter": {
    "hash": "6795c53a464863a7af04e484d197ab81636f962540f300a02661ac97b978f019"
   }
  }
 },
 "nbformat": 4,
 "nbformat_minor": 4
}
